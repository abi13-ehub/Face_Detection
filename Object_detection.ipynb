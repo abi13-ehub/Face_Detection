{
 "cells": [
  {
   "cell_type": "code",
   "execution_count": 10,
   "id": "ee92cd84",
   "metadata": {},
   "outputs": [],
   "source": [
    "import numpy as np\n",
    "import cv2\n",
    "import re"
   ]
  },
  {
   "cell_type": "code",
   "execution_count": 16,
   "id": "44cd2057",
   "metadata": {},
   "outputs": [],
   "source": [
    "img = cv2.imread('./images/0021.jpg')\n"
   ]
  },
  {
   "cell_type": "code",
   "execution_count": 17,
   "id": "68a3c18d",
   "metadata": {},
   "outputs": [],
   "source": [
    "cv2.imshow('img',img)\n",
    "cv2.waitKey(0)\n",
    "cv2.destroyAllWindows()"
   ]
  },
  {
   "cell_type": "code",
   "execution_count": 8,
   "id": "99a69a11",
   "metadata": {},
   "outputs": [],
   "source": [
    "# load cascade classifier - frontalface"
   ]
  },
  {
   "cell_type": "code",
   "execution_count": 20,
   "id": "03c1b3d4",
   "metadata": {},
   "outputs": [],
   "source": [
    "face_cascade =cv2.CascadeClassifier('./cascade_classifier/haarcascade_frontalface_default.xml')"
   ]
  },
  {
   "cell_type": "code",
   "execution_count": 21,
   "id": "509da62a",
   "metadata": {},
   "outputs": [],
   "source": [
    "# apply cascade classifier to an image \n",
    "faces, num_detection = face_cascade.detectMultiScale2(img)"
   ]
  },
  {
   "cell_type": "code",
   "execution_count": 22,
   "id": "0696cd36",
   "metadata": {},
   "outputs": [
    {
     "name": "stdout",
     "output_type": "stream",
     "text": [
      "[[114  40 196 196]]\n"
     ]
    }
   ],
   "source": [
    "print(faces)"
   ]
  },
  {
   "cell_type": "code",
   "execution_count": 23,
   "id": "5aa973ad",
   "metadata": {},
   "outputs": [],
   "source": [
    "# 196 and 196 are width and height of the face"
   ]
  },
  {
   "cell_type": "code",
   "execution_count": 24,
   "id": "68c470cd",
   "metadata": {},
   "outputs": [
    {
     "name": "stdout",
     "output_type": "stream",
     "text": [
      "[89]\n"
     ]
    }
   ],
   "source": [
    "print(num_detection)"
   ]
  },
  {
   "cell_type": "code",
   "execution_count": 25,
   "id": "ecab1f56",
   "metadata": {},
   "outputs": [],
   "source": [
    "pt1= (114, 40)\n",
    "pt2 = (114+196,40+196)\n",
    "# draw the rectangle \n",
    "\n",
    "cv2.rectangle(img,pt1,pt2,(255,0,255))\n",
    "cv2.imshow('face_detection',img)\n",
    "cv2.waitKey(0)\n",
    "cv2.destroyAllWindows()"
   ]
  },
  {
   "cell_type": "code",
   "execution_count": 26,
   "id": "da94e1bd",
   "metadata": {},
   "outputs": [],
   "source": [
    "cx = 114 + 196//2\n",
    "cy =40 + 196//2\n",
    "r = 196//2\n",
    "cv2.circle(img,(cx,cy),r,(0,255,255),2)\n",
    "cv2.imshow('face_detection_circle',img)\n",
    "cv2.waitKey(0)\n",
    "cv2.destroyAllWindows()\n"
   ]
  },
  {
   "cell_type": "code",
   "execution_count": 27,
   "id": "595754ed",
   "metadata": {},
   "outputs": [],
   "source": [
    "img = cv2.imread('./images/friends.jpg')\n",
    "cv2.imshow('image',img)\n",
    "cv2.waitKey(0)\n",
    "cv2.destroyAllWindows()\n"
   ]
  },
  {
   "cell_type": "code",
   "execution_count": 28,
   "id": "b0113869",
   "metadata": {},
   "outputs": [],
   "source": [
    "face_cascade =cv2.CascadeClassifier('./cascade_classifier/haarcascade_frontalface_default.xml')"
   ]
  },
  {
   "cell_type": "code",
   "execution_count": 38,
   "id": "b929e324",
   "metadata": {},
   "outputs": [
    {
     "name": "stdout",
     "output_type": "stream",
     "text": [
      "[[128 107  96  96]\n",
      " [255  90  95  95]\n",
      " [407  92  95  95]]\n"
     ]
    }
   ],
   "source": [
    "# apply cascade classifier to an image \n",
    "# anything greater than 8 or 10 is a good minNeighbour \n",
    "faces , num_detecttion = face_cascade.detectMultiScale2(img,minNeighbors =8)\n",
    "# run a loop\n",
    "for x,y,w,h in faces:\n",
    "    cv2.rectangle(img,(x,y),(x+w,y+h),(255,0,255),3)\n",
    "    \n",
    "# display the image \n",
    "cv2.imshow('face_detection',img)\n",
    "cv2.waitKey(0)\n",
    "cv2.destroyAllWindows()\n",
    "\n",
    "\n",
    "print(faces)"
   ]
  },
  {
   "cell_type": "code",
   "execution_count": 35,
   "id": "e3dd4399",
   "metadata": {},
   "outputs": [
    {
     "name": "stdout",
     "output_type": "stream",
     "text": [
      "[104  84  71]\n"
     ]
    }
   ],
   "source": [
    "print(num_detecttion)"
   ]
  },
  {
   "cell_type": "code",
   "execution_count": 39,
   "id": "ae34f69b",
   "metadata": {},
   "outputs": [],
   "source": [
    "# faces and eye detection\n",
    "\n",
    "img = cv2.imread('./images/friends.jpg')\n",
    "cv2.imshow('image',img)\n",
    "cv2.waitKey(0)\n",
    "cv2.destroyAllWindows()\n"
   ]
  },
  {
   "cell_type": "code",
   "execution_count": 40,
   "id": "8b93a0f8",
   "metadata": {},
   "outputs": [],
   "source": [
    "face_cascade =cv2.CascadeClassifier('./cascade_classifier/haarcascade_frontalface_default.xml')\n",
    "eye_cascade = cv2.CascadeClassifier('./cascade_classifier/haarcascade_eye.xml')"
   ]
  },
  {
   "cell_type": "code",
   "execution_count": 42,
   "id": "59157998",
   "metadata": {},
   "outputs": [],
   "source": [
    "# step1 : Face Detection\n",
    "faces, num_detection_face = face_cascade.detectMultiScale2(img,minNeighbors =8)\n",
    "for x,y,w,h in faces:\n",
    "    cv2.rectangle(img,(x,y),(x+w,y+h),(255,0,255),3)\n",
    "# step2 : eye detection \n",
    "    face_roi = img[y:y+h, x:x+h] #cropping the image \n",
    "#     step 3: apply cascade classifier (eye)\n",
    "    eye, num_detection_eyes = eye_cascade.detectMultiScale2(face_roi)\n",
    "    for ex,ey,ew,eh in eye:\n",
    "        cx = x + ex+ew//2 \n",
    "        cy = y + ey+eh//2 \n",
    "        r =  eh//2 \n",
    "        cv2.circle(img,(cx,cy),r,(255,255,0),2)\n",
    "    \n",
    "# display the image \n",
    "cv2.imshow('face_eye_detection',img)\n",
    "cv2.waitKey(0)\n",
    "cv2.destroyAllWindows()\n",
    "\n",
    "\n"
   ]
  },
  {
   "cell_type": "code",
   "execution_count": 43,
   "id": "b587c83f",
   "metadata": {},
   "outputs": [],
   "source": [
    "# face eye smile detection \n"
   ]
  },
  {
   "cell_type": "code",
   "execution_count": 44,
   "id": "8f29bc8f",
   "metadata": {},
   "outputs": [],
   "source": [
    "img = cv2.imread('./images/friends.jpg')\n",
    "cv2.imshow('image',img)\n",
    "cv2.waitKey(0)\n",
    "cv2.destroyAllWindows()"
   ]
  },
  {
   "cell_type": "code",
   "execution_count": 45,
   "id": "7be16613",
   "metadata": {},
   "outputs": [],
   "source": [
    "face_cascade =cv2.CascadeClassifier('./cascade_classifier/haarcascade_frontalface_default.xml')\n",
    "eye_cascade = cv2.CascadeClassifier('./cascade_classifier/haarcascade_eye.xml')\n",
    "smile_cascade =  cv2.CascadeClassifier('./cascade_classifier/haarcascade_smile.xml')"
   ]
  },
  {
   "cell_type": "code",
   "execution_count": 47,
   "id": "5d05d3fa",
   "metadata": {},
   "outputs": [],
   "source": [
    "# step1 : Face Detection\n",
    "faces, num_detection_face = face_cascade.detectMultiScale2(img,minNeighbors =8)\n",
    "for x,y,w,h in faces:\n",
    "    face_roi = img[y:y+h, x:x+h].copy() #cropping the image \n",
    "    cv2.rectangle(img,(x,y),(x+w,y+h),(255,0,255),3)\n",
    "\n",
    "#     step 2: apply cascade classifier (eye)\n",
    "    eye, num_detection_eyes = eye_cascade.detectMultiScale2(face_roi)\n",
    "    for ex,ey,ew,eh in eye:\n",
    "        cx = x + ex+ew//2 \n",
    "        cy = y + ey+eh//2 \n",
    "        r =  eh//2 \n",
    "        cv2.circle(img,(cx,cy),r,(255,255,0),2)\n",
    "#   step 3:  smile detection \n",
    "    smile, num_detection_smile = smile_cascade.detectMultiScale2(face_roi)\n",
    "    for sx,sy,sw,sh in smile:\n",
    "        cv2.rectangle(img,(x+sx,y+sy),(x+sx+sw,y+sy+sh),(255,255,255),2 )\n",
    "        \n",
    "    \n",
    "# step 4 : display the image \n",
    "cv2.imshow('face_eye_smile_detection',img)\n",
    "cv2.waitKey(0)\n",
    "cv2.destroyAllWindows()"
   ]
  },
  {
   "cell_type": "code",
   "execution_count": null,
   "id": "638677ef",
   "metadata": {},
   "outputs": [],
   "source": []
  }
 ],
 "metadata": {
  "kernelspec": {
   "display_name": "Python 3 (ipykernel)",
   "language": "python",
   "name": "python3"
  },
  "language_info": {
   "codemirror_mode": {
    "name": "ipython",
    "version": 3
   },
   "file_extension": ".py",
   "mimetype": "text/x-python",
   "name": "python",
   "nbconvert_exporter": "python",
   "pygments_lexer": "ipython3",
   "version": "3.9.2"
  }
 },
 "nbformat": 4,
 "nbformat_minor": 5
}
